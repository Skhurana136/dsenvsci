{
 "cells": [
  {
   "cell_type": "markdown",
   "metadata": {},
   "source": [
    "# Make changes in OGS input files"
   ]
  },
  {
   "cell_type": "code",
   "execution_count": 1,
   "metadata": {},
   "outputs": [],
   "source": [
    "#Install standard and third party libraries\n",
    "import numpy as np\n",
    "import os"
   ]
  },
  {
   "cell_type": "code",
   "execution_count": 2,
   "metadata": {},
   "outputs": [
    {
     "name": "stdout",
     "output_type": "stream",
     "text": [
      "[85, 86, 87, 88, 89, 90, 91, 92, 93, 94, 95, 96, 97, 98, 99, 100, 101, 102, 103, 104, 105, 106, 107, 108, 109, 110, 111, 112, 113, 114, 115, 116, 117, 118, 119, 120, 121, 122, 123, 124, 125, 126, 127, 128, 129, 130, 131, 132, 133, 134, 135, 136, 137, 138, 139, 140, 141, 142, 143, 144, 145, 146, 147, 148, 149, 150, 151, 152, 153, 154, 155, 156, 157, 158, 159, 160, 161, 162, 163, 164, 165, 166, 167, 168, 169, 170, 171, 172, 173, 174]\n"
     ]
    }
   ],
   "source": [
    "#Define file paths and variables\n",
    "directory = \"//msg-filer3/scratch_360_days/khurana/Richards_flow_bot_sat\"\n",
    "Regimes = [\"Slow\", \"Medium\", \"Fast\"]\n",
    "#trials = list(range(37,85,1))\n",
    "#Trial = list(str(t) for t in trials) + [\"H\"]\n",
    "Trial = list(range(85,175,1))\n",
    "print(Trial)"
   ]
  },
  {
   "cell_type": "markdown",
   "metadata": {},
   "source": [
    "### Trial list is made correctly"
   ]
  },
  {
   "cell_type": "code",
   "execution_count": 3,
   "metadata": {},
   "outputs": [],
   "source": [
    "#Define  function to build a list of line offsets\n",
    "def lines(datafile):\n",
    "    line_offset = []\n",
    "    offset = 0\n",
    "    for line in datafile:\n",
    "        line_offset.append(offset)\n",
    "        offset += len(line)\n",
    "    datafile.seek(0)\n",
    "    \n",
    "    return line_offset\n",
    "\n",
    "# Now, to skip to line n (with the first line being line 0), just do\n",
    "#file.seek(line_offset[n])"
   ]
  },
  {
   "cell_type": "markdown",
   "metadata": {},
   "source": [
    "### Change the value of source term for each domain in each flow regime"
   ]
  },
  {
   "cell_type": "code",
   "execution_count": 4,
   "metadata": {},
   "outputs": [],
   "source": [
    "for r,v in zip(Regimes, [\"0.00038\", \"0.0038\", \"0.038\"]):\n",
    "    for t in Trial:\n",
    "        folder = os.path.join(directory, r+\"AR_0\", \"RF-A\"+str(t))\n",
    "        originalfilename = os.path.join(folder,\"model.st\")\n",
    "        file = open(originalfilename, \"r\")\n",
    "        linelist = file.readlines() #take care that counting starts from 0\n",
    "        filename = os.path.join(folder, \"model.st\")\n",
    "        linelist[9] = \"  CONSTANT_NEUMANN \" + v + \";CONSTANT 3.8E-5;\\n\"\n",
    "        newfile = open (originalfilename, \"w\")\n",
    "        newfile.writelines(linelist)\n",
    "        newfile.close()"
   ]
  },
  {
   "cell_type": "markdown",
   "metadata": {},
   "source": [
    "### Change the value of Permeability constant in mmp file"
   ]
  },
  {
   "cell_type": "code",
   "execution_count": 6,
   "metadata": {},
   "outputs": [],
   "source": [
    "#Changing mmp file with average permeability only\n",
    "for r in Regimes:\n",
    "    for t in Trial:\n",
    "        folder = os.path.join(directory, r+\"AR_0\", \"RF-A\"+str(t))\n",
    "        originalfilename = os.path.join(folder,\"model.mmp\")\n",
    "        file = open(originalfilename, \"r\")\n",
    "        linelist = file.readlines() #take care that counting starts from 0\n",
    "        filename = os.path.join(directory, str(t) + \".in\")\n",
    "        linelist[11] = \"\\tISOTROPIC 2e-8;2e-6;2e-6/10000;2e-6/100000;2e-13\\n\"\n",
    "        newfile = open (originalfilename, \"w\")\n",
    "        newfile.writelines(linelist)\n",
    "        newfile.close()"
   ]
  },
  {
   "cell_type": "code",
   "execution_count": 4,
   "metadata": {},
   "outputs": [],
   "source": [
    "#Changing mmp file with storage\n",
    "for r in Regimes:\n",
    "    for t in Trial:\n",
    "        folder = os.path.join(directory, r+\"AR_0\", \"RF-A\"+str(t))\n",
    "        originalfilename = os.path.join(folder,\"model.mmp\")\n",
    "        file = open(originalfilename, \"r\")\n",
    "        linelist = file.readlines() #take care that counting starts from 0\n",
    "        filename = os.path.join(directory, str(t) + \".in\")\n",
    "        linelist[9] = \"   1 0.0\\n\"\n",
    "        newfile = open (originalfilename, \"w\")\n",
    "        newfile.writelines(linelist)\n",
    "        newfile.close()"
   ]
  },
  {
   "cell_type": "code",
   "execution_count": 7,
   "metadata": {},
   "outputs": [],
   "source": [
    "#Changing mmp file with average permeability only\n",
    "for r in Regimes:\n",
    "    for t in Trial:\n",
    "        folder = os.path.join(directory, r+\"AR_0\", \"RF-A\"+str(t))\n",
    "        originalfilename = os.path.join(folder,\"A\"+str(t)+\"-T.dat\")\n",
    "        file = open(originalfilename, \"r\")\n",
    "        linelist = file.readlines() #take care that counting starts from 0\n",
    "        filename = os.path.join(directory, str(t) + \".in\")\n",
    "        linelist[9] = \"2e-8;2e-6;2e-13\\n\"\n",
    "        newfile = open (originalfilename, \"w\")\n",
    "        newfile.writelines(linelist)\n",
    "        newfile.close()"
   ]
  },
  {
   "cell_type": "code",
   "execution_count": 11,
   "metadata": {},
   "outputs": [
    {
     "name": "stdout",
     "output_type": "stream",
     "text": [
      "159\n",
      "160\n",
      "161\n",
      "162\n",
      "163\n",
      "164\n",
      "165\n",
      "166\n",
      "167\n",
      "168\n",
      "169\n",
      "170\n",
      "171\n",
      "172\n",
      "173\n",
      "174\n"
     ]
    }
   ],
   "source": [
    "#Changing mmp file with average permeability only\n",
    "for r in Regimes[:1]:\n",
    "    for t in Trial:\n",
    "        folder = os.path.join(directory, r+\"AR_0\", \"RF-A\"+str(t))\n",
    "        originalfilename = os.path.join(folder,\"A\"+str(t)+\"-T.dat\")\n",
    "        file = open(originalfilename, \"r\")\n",
    "        linelist = file.readlines() #take care that counting starts from 0\n",
    "        linelist[2] = \"\\t RICHARDS_FLOW\\n\"\n",
    "        linelist[4] = \"\\t PERMEABILITY\\n\"\n",
    "        newfile = open (originalfilename, \"w\")\n",
    "        newfile.writelines(linelist)\n",
    "        newfile.close()"
   ]
  },
  {
   "cell_type": "code",
   "execution_count": 4,
   "metadata": {},
   "outputs": [],
   "source": [
    "#Changing mmp file with permeability distribution\n",
    "Trial = [\"88\",\"89\",\"90\",\"91\",\"93\",\"102\",\"106\",\"107\",\"109\",\"110\",\"111\",\"114\",\"117\",\"119\",\n",
    "\"125\",\"133\",\"134\",\"135\",\"136\",\"137\",\"141\",\"142\",\"145\",\"155\",\"156\",\"162\"]\n",
    "for r in Regimes[:1]:\n",
    "    for t in Trial:\n",
    "        folder = os.path.join(directory, r+\"AR_0\", \"RF-A\"+t)\n",
    "        originalfilename = os.path.join(folder,\"model.mmp\")\n",
    "        file = open(originalfilename, \"r\")\n",
    "        linelist = file.readlines() #take care that counting starts from 0\n",
    "        linelist[13] = \"  A\"+t+\"-T.dat\\n\"\n",
    "        newfile = open (originalfilename, \"w\")\n",
    "        newfile.writelines(linelist)\n",
    "        newfile.close()"
   ]
  }
 ],
 "metadata": {
  "kernelspec": {
   "display_name": "Python 3",
   "language": "python",
   "name": "python3"
  },
  "language_info": {
   "codemirror_mode": {
    "name": "ipython",
    "version": 3
   },
   "file_extension": ".py",
   "mimetype": "text/x-python",
   "name": "python",
   "nbconvert_exporter": "python",
   "pygments_lexer": "ipython3",
   "version": "3.8.5"
  }
 },
 "nbformat": 4,
 "nbformat_minor": 2
}
