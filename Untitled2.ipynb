{
 "cells": [
  {
   "cell_type": "markdown",
   "metadata": {},
   "source": [
    "# Process PFLOTRAN HDF5 files\n",
    "\n",
    "### PFLOTRAN outputs are being collected in HDF5 files. This notebook will redirect to the directory, collect all the hdf5 files, process information, and give flux based concentration of tracer line plots as outputs, along with breakthrough time"
   ]
  },
  {
   "cell_type": "code",
   "execution_count": 1,
   "metadata": {},
   "outputs": [
    {
     "name": "stdout",
     "output_type": "stream",
     "text": [
      "C:\\Users\\khurana\\Documents\\Scripts\n"
     ]
    }
   ],
   "source": [
    "%cd .."
   ]
  },
  {
   "cell_type": "code",
   "execution_count": 2,
   "metadata": {},
   "outputs": [],
   "source": [
    "%load_ext autoreload\n",
    "%autoreload 2"
   ]
  },
  {
   "cell_type": "code",
   "execution_count": 3,
   "metadata": {},
   "outputs": [
    {
     "name": "stdout",
     "output_type": "stream",
     "text": [
      "C:\\Users\\khurana\\AppData\\Roaming\\jupyter\n"
     ]
    }
   ],
   "source": [
    "import sys\n",
    "sys.version\n",
    "sys.executable\n",
    "from jupyter_core.paths import jupyter_data_dir\n",
    "print(jupyter_data_dir())"
   ]
  },
  {
   "cell_type": "code",
   "execution_count": 5,
   "metadata": {},
   "outputs": [
    {
     "ename": "ModuleNotFoundError",
     "evalue": "No module named 'h5py'",
     "output_type": "error",
     "traceback": [
      "\u001b[1;31m---------------------------------------------------------------------------\u001b[0m",
      "\u001b[1;31mModuleNotFoundError\u001b[0m                       Traceback (most recent call last)",
      "\u001b[1;32m<ipython-input-5-96db14f200fe>\u001b[0m in \u001b[0;36m<module>\u001b[1;34m\u001b[0m\n\u001b[0;32m      8\u001b[0m \u001b[1;32mimport\u001b[0m \u001b[0mnumpy\u001b[0m \u001b[1;32mas\u001b[0m \u001b[0mnp\u001b[0m\u001b[1;33m\u001b[0m\u001b[1;33m\u001b[0m\u001b[0m\n\u001b[0;32m      9\u001b[0m \u001b[1;32mimport\u001b[0m \u001b[0mseaborn\u001b[0m \u001b[1;32mas\u001b[0m \u001b[0msns\u001b[0m\u001b[1;33m\u001b[0m\u001b[1;33m\u001b[0m\u001b[0m\n\u001b[1;32m---> 10\u001b[1;33m \u001b[1;32mimport\u001b[0m \u001b[0mh5py\u001b[0m\u001b[1;33m\u001b[0m\u001b[1;33m\u001b[0m\u001b[0m\n\u001b[0m",
      "\u001b[1;31mModuleNotFoundError\u001b[0m: No module named 'h5py'"
     ]
    }
   ],
   "source": [
    "# python standard library\n",
    "import os\n",
    "\n",
    "# third-party\n",
    "#import geopandas\n",
    "import matplotlib.pyplot as plt\n",
    "import pandas as pd\n",
    "import numpy as np\n",
    "import seaborn as sns\n",
    "import h5py"
   ]
  },
  {
   "cell_type": "code",
   "execution_count": null,
   "metadata": {},
   "outputs": [],
   "source": [
    "# def variables\n",
    "prefix = \"A\"\n",
    "masterdictionary = {\n",
    "            '36': {\"Het\": 0, \"Anis\": 1},\n",
    "            '37': {\"Het\": 0.1, \"Anis\": 2},\n",
    "            '38': {\"Het\": 0.1, \"Anis\": 5},\n",
    "            '39': {\"Het\": 0.1, \"Anis\": 10},\n",
    "            '40': {\"Het\": 1, \"Anis\": 2},\n",
    "            '41': {\"Het\": 1, \"Anis\": 5},\n",
    "            '42': {\"Het\": 1, \"Anis\": 10},\n",
    "            '43': {\"Het\": 10, \"Anis\": 2},\n",
    "            '44': {\"Het\": 10, \"Anis\": 5},\n",
    "            '45': {\"Het\": 10, \"Anis\": 10},\n",
    "            '46': {\"Het\": 0.1, \"Anis\": 2},\n",
    "            '47': {\"Het\": 0.1, \"Anis\": 5},\n",
    "            '48': {\"Het\": 0.1, \"Anis\": 10},\n",
    "            '49': {\"Het\": 1, \"Anis\": 2},\n",
    "            '50': {\"Het\": 1, \"Anis\": 5},\n",
    "            '51': {\"Het\": 1, \"Anis\": 10},\n",
    "            '52': {\"Het\": 10, \"Anis\": 2},\n",
    "            '53': {\"Het\": 10, \"Anis\": 5},\n",
    "            '54': {\"Het\": 10, \"Anis\": 10},\n",
    "            '55': {\"Het\": 0.1, \"Anis\": 2},\n",
    "            '56': {\"Het\": 0.1, \"Anis\": 5},\n",
    "            '57': {\"Het\": 0.1, \"Anis\": 10},\n",
    "            '58': {\"Het\": 1, \"Anis\": 2},\n",
    "            '59': {\"Het\": 1, \"Anis\": 5},\n",
    "            '60': {\"Het\": 1, \"Anis\": 10},\n",
    "            '61': {\"Het\": 10, \"Anis\": 2},\n",
    "            '62': {\"Het\": 10, \"Anis\": 5},\n",
    "            '63': {\"Het\": 10, \"Anis\": 10},\n",
    "            '64': {\"Het\": 0.1, \"Anis\": 2},\n",
    "            '65': {\"Het\": 0.1, \"Anis\": 5},\n",
    "            '66': {\"Het\": 0.1, \"Anis\": 10},\n",
    "            '67': {\"Het\": 1, \"Anis\": 2},\n",
    "            '68': {\"Het\": 1, \"Anis\": 5},\n",
    "            '69': {\"Het\": 1, \"Anis\": 10},\n",
    "            '70': {\"Het\": 5, \"Anis\": 2},\n",
    "            '71': {\"Het\": 5, \"Anis\": 5},\n",
    "            '72': {\"Het\": 5, \"Anis\": 10},\n",
    "            '73': {\"Het\": 10, \"Anis\": 2},\n",
    "            '74': {\"Het\": 10, \"Anis\": 5},\n",
    "            '75': {\"Het\": 10, \"Anis\": 10},\n",
    "            '76': {\"Het\": 5, \"Anis\": 2},\n",
    "            '77': {\"Het\": 5, \"Anis\": 5},\n",
    "            '78': {\"Het\": 5, \"Anis\": 10},\n",
    "            '79': {\"Het\": 5, \"Anis\": 2},\n",
    "            '80': {\"Het\": 5, \"Anis\": 5},\n",
    "            '81': {\"Het\": 5, \"Anis\": 10},\n",
    "            '82': {\"Het\": 5, \"Anis\": 2},\n",
    "            '83': {\"Het\": 5, \"Anis\": 5},\n",
    "            '84': {\"Het\": 5, \"Anis\": 10},\n",
    "            }"
   ]
  },
  {
   "cell_type": "markdown",
   "metadata": {},
   "source": [
    "### Define scenarios that you are investigating"
   ]
  },
  {
   "cell_type": "code",
   "execution_count": null,
   "metadata": {},
   "outputs": [],
   "source": [
    "#notlist = [43, 44, 45, 51, 52, 53, 54, 61, 62, 63, 70, 71, 72, 73, 74, 75, 76, 77, 78, 79, 80, 81, 84]\n",
    "#Trial = list(t for t in list(masterdictionary.keys()) if t not in str(notlist))\n",
    "#Trial = [36, 37, 38, 49, 40, 41, 42, 55, 56, 57, 58, 59, 60, 64, 65, 66, 67]\n",
    "Trial = list(masterdictionary.keys())\n",
    "#Trial.remove(\"36\")\n",
    "print(len(Trial))"
   ]
  },
  {
   "cell_type": "markdown",
   "metadata": {},
   "source": [
    "## Load Data\n",
    "\n",
    "#### Check for velocity"
   ]
  },
  {
   "cell_type": "code",
   "execution_count": null,
   "metadata": {},
   "outputs": [],
   "source": [
    "breakthrough = []\n",
    "for reg in [\"Fast\", \"Slow\"]:    \n",
    "    DATA_DIR = \"//msg-filer2/scratch_60_days/khurana/DD/\" + reg\n",
    "    for i in Trial:\n",
    "        infile = DATA_DIR + \"/\" + prefix+str(i)+\".h5\"\n",
    "        f = h5py.File(infile, \"r\")\n",
    "        #timeindex = list(f.keys())[2:]\n",
    "        #features = list(f[timeindex[0]].keys())\n",
    "        print (reg, i, len(timeindex))\n",
    "        #for t in range(1,4):\n",
    "        #    avgvel1 = np.round(np.mean(f[timeindex[t]][features[1]]),4)\n",
    "        #    avgvel2 = np.round(np.mean(f[timeindex[t+1]][features[1]]),4)\n",
    "            #print(avgvel1==avgvel2)\n",
    "        #print(reg, i, avgvel1)"
   ]
  },
  {
   "cell_type": "code",
   "execution_count": null,
   "metadata": {},
   "outputs": [],
   "source": [
    "breakthrough = []\n",
    "for reg in [\"Slow\", \"Medium\", \"Fast\"]:    \n",
    "    print(reg)\n",
    "    DATA_DIR = \"//msg-filer2/scratch_60_days/khurana/xz/\"+reg\n",
    "    for i in Trial:\n",
    "        infile = os.path.join(DATA_DIR,prefix+str(i)+\".h5\")\n",
    "        f = h5py.File(infile, \"r\")\n",
    "        timeindex = list(f.keys())[2:]\n",
    "        timeseries = list(float(i[7:-2]) for i in timeindex)\n",
    "        sortedtime = np.sort(timeseries)\n",
    "        index = list(timeseries.index(s) for s in sortedtime)\n",
    "        #print(index)\n",
    "        features = list(f[timeindex[0]].keys())\n",
    "        for t in index: #range(len(timeindex)):\n",
    "            tracerflux = sum(f[timeindex[t]][features[2]][:,:,5]*f[timeindex[t]][features[-1]][:,:,5])\n",
    "            velflux = sum(f[timeindex[t]][features[2]][:,:, 5])\n",
    "            avgconc = int(tracerflux/velflux)\n",
    "            pressure = np.mean(f[timeindex[t]][features[3]][:,:,5])\n",
    "            if avgconc > 5:\n",
    "                breakthrough.append([i, reg, masterdictionary[str(i)][\"Het\"], masterdictionary[str(i)][\"Anis\"], str(masterdictionary[str(i)][\"Het\"])+\":\"+str(masterdictionary[str(i)][\"Anis\"]), float(timeindex[t][5:-1]), pressure])\n",
    "                #print(reg, i, f[timeindex[t]], avgconc )\n",
    "                break\n",
    "            #else:\n",
    "            #   pass\n",
    "        f.close()"
   ]
  },
  {
   "cell_type": "code",
   "execution_count": null,
   "metadata": {},
   "outputs": [],
   "source": [
    "print(breakthrough)"
   ]
  },
  {
   "cell_type": "code",
   "execution_count": null,
   "metadata": {},
   "outputs": [],
   "source": [
    "## Analysing Data\n",
    "- Change in breakthrough time given the same incoming flux at the top boundary\n",
    "- Base case is scenario 36 (homogeneous case)"
   ]
  },
  {
   "cell_type": "code",
   "execution_count": null,
   "metadata": {},
   "outputs": [],
   "source": [
    "df = pd.DataFrame.from_records(breakthrough, columns = [\"Trial\", \"Regime\", \"Variance\", \"Anisotropy\", \"VA\", \"Time\", \"TOP\"])\n",
    "df = df.sort_values(by = [\"Regime\",\"Variance\", \"Anisotropy\"])\n",
    "print(df.head())"
   ]
  },
  {
   "cell_type": "code",
   "execution_count": null,
   "metadata": {},
   "outputs": [],
   "source": [
    "for reg in [\"Slow\", \"Medium\",\"Fast\"]:\n",
    "    print(reg)\n",
    "    base = df[(df[\"Regime\"]==reg)&(df[\"Trial\"]=='36')][\"Time\"].values[0]\n",
    "    print(base)\n",
    "    df.loc[df[\"Regime\"]==reg,\"base\"] = base\n",
    "df[\"fraction\"] = df.Time/df.base"
   ]
  },
  {
   "cell_type": "markdown",
   "metadata": {},
   "source": [
    "## Visualizing using boxplot\n",
    "- Y axis: Fraction of breakthrough time in heterogeneous scenario and that in homogeneous scenario (%)\n",
    "- X axis: Heterogeneity depicted as Variance:Anisotropy"
   ]
  },
  {
   "cell_type": "code",
   "execution_count": null,
   "metadata": {},
   "outputs": [],
   "source": [
    "coldict = {\"Slow\": \"indianred\", \"Medium\": \"g\", \"Fast\" : \"steelblue\"}\n",
    "plt.figure(figsize = (10,6))\n",
    "sns.boxplot(x = \"VA\", y = df[\"fraction\"]*100, hue = \"Regime\", palette = coldict, data = df)\n",
    "plt.xlabel (\"Variance:Anisotropy\", fontsize = 15)\n",
    "plt.ylabel (\"Change in breakthrough time (%)\", fontsize = 15)\n",
    "plt.legend(title = \"Flow regime\", fontsize = 12)\n",
    "plt.yticks(fontsize = 14)\n",
    "plt.xticks(fontsize = 14)"
   ]
  }
 ],
 "metadata": {
  "kernelspec": {
   "display_name": "mlsm",
   "language": "python",
   "name": "mlsm"
  },
  "language_info": {
   "codemirror_mode": {
    "name": "ipython",
    "version": 3
   },
   "file_extension": ".py",
   "mimetype": "text/x-python",
   "name": "python",
   "nbconvert_exporter": "python",
   "pygments_lexer": "ipython3",
   "version": "3.8.5"
  }
 },
 "nbformat": 4,
 "nbformat_minor": 4
}
