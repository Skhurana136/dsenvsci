{
 "cells": [
  {
   "cell_type": "markdown",
   "metadata": {},
   "source": [
    "# Make changes in OGS input files"
   ]
  },
  {
   "cell_type": "code",
   "execution_count": 1,
   "metadata": {},
   "outputs": [],
   "source": [
    "#Install standard and third party libraries\n",
    "import numpy as np\n",
    "import os"
   ]
  },
  {
   "cell_type": "code",
   "execution_count": 7,
   "metadata": {},
   "outputs": [],
   "source": [
    "#Define file paths and variables\n",
    "directory = \"//msg-filer3/scratch_360_days/khurana/Richards_flow_low_sat\"\n",
    "Regimes = [\"Slow\", \"Equal\", \"Fast\"]\n",
    "trials = list(range(37,85,1))\n",
    "Trial = list(str(t) for t in trials) + [\"H\"]\n",
    "print(Trial)"
   ]
  },
  {
   "cell_type": "markdown",
   "metadata": {},
   "source": [
    "### Trial list is made correctly"
   ]
  },
  {
   "cell_type": "code",
   "execution_count": 9,
   "metadata": {},
   "outputs": [],
   "source": [
    "#Define  function to build a list of line offsets\n",
    "def lines(datafile):\n",
    "    line_offset = []\n",
    "    offset = 0\n",
    "    for line in datafile:\n",
    "        line_offset.append(offset)\n",
    "        offset += len(line)\n",
    "    datafile.seek(0)\n",
    "    \n",
    "    return line_offset\n",
    "\n",
    "# Now, to skip to line n (with the first line being line 0), just do\n",
    "#file.seek(line_offset[n])"
   ]
  },
  {
   "cell_type": "code",
   "execution_count": 11,
   "metadata": {},
   "outputs": [],
   "source": [
    "#Changing mmp file with average permeability only\n",
    "for r in Regimes:\n",
    "    for t in Trial:\n",
    "        folder = os.path.join(directory, r+\"AR_0\", \"RF-A\"+str(t))\n",
    "        originalfilename = os.path.join(folder,\"model.mmp\")\n",
    "        file = open(originalfilename, \"r\")\n",
    "        linelist = file.readlines() #take care that counting starts from 0\n",
    "        filename = os.path.join(directory, str(t) + \".in\")\n",
    "        linelist[11] = \"\\tISOTROPIC 2e-6/10000;2e-6/100000;2e-13\\n\"\n",
    "        newfile = open (originalfilename, \"w\")\n",
    "        newfile.writelines(linelist)\n",
    "        newfile.close()"
   ]
  }
 ],
 "metadata": {
  "kernelspec": {
   "display_name": "Python 3",
   "language": "python",
   "name": "python3"
  },
  "language_info": {
   "codemirror_mode": {
    "name": "ipython",
    "version": 3
   },
   "file_extension": ".py",
   "mimetype": "text/x-python",
   "name": "python",
   "nbconvert_exporter": "python",
   "pygments_lexer": "ipython3",
   "version": "3.8.5"
  }
 },
 "nbformat": 4,
 "nbformat_minor": 2
}
