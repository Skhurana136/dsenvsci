{
 "cells": [
  {
   "cell_type": "markdown",
   "metadata": {},
   "source": [
    "# Process PFLOTRAN HDF5 files\n",
    "\n",
    "### PFLOTRAN outputs are being collected in HDF5 files. This notebook will redirect to the directory, collect all the hdf5 files, process information, and give flux based concentration of tracer line plots as outputs, along with breakthrough time"
   ]
  },
  {
   "cell_type": "code",
   "execution_count": 1,
   "metadata": {},
   "outputs": [
    {
     "name": "stdout",
     "output_type": "stream",
     "text": [
      "C:\\Users\\khurana\\Documents\\Scripts\n"
     ]
    }
   ],
   "source": [
    "%cd .."
   ]
  },
  {
   "cell_type": "code",
   "execution_count": 2,
   "metadata": {},
   "outputs": [],
   "source": [
    "%load_ext autoreload\n",
    "%autoreload 2"
   ]
  },
  {
   "cell_type": "code",
   "execution_count": 3,
   "metadata": {},
   "outputs": [
    {
     "name": "stdout",
     "output_type": "stream",
     "text": [
      "C:\\Users\\khurana\\AppData\\Roaming\\jupyter\n"
     ]
    }
   ],
   "source": [
    "import sys\n",
    "sys.version\n",
    "sys.executable\n",
    "from jupyter_core.paths import jupyter_data_dir\n",
    "print(jupyter_data_dir())"
   ]
  },
  {
   "cell_type": "code",
   "execution_count": 4,
   "metadata": {},
   "outputs": [],
   "source": [
    "# python standard library\n",
    "import os\n",
    "\n",
    "# third-party\n",
    "import matplotlib.pyplot as plt\n",
    "import pandas as pd\n",
    "import numpy as np\n",
    "import seaborn as sns\n",
    "import h5py"
   ]
  },
  {
   "cell_type": "code",
   "execution_count": 5,
   "metadata": {},
   "outputs": [],
   "source": [
    "# def variables\n",
    "prefix = \"A\"\n",
    "masterdictionary = {\n",
    "            '36': {\"Het\": 0, \"Anis\": 1},\n",
    "            '37': {\"Het\": 0.1, \"Anis\": 2},\n",
    "            '38': {\"Het\": 0.1, \"Anis\": 5},\n",
    "            '39': {\"Het\": 0.1, \"Anis\": 10},\n",
    "            '40': {\"Het\": 1, \"Anis\": 2},\n",
    "            '41': {\"Het\": 1, \"Anis\": 5},\n",
    "            '42': {\"Het\": 1, \"Anis\": 10},\n",
    "            '43': {\"Het\": 10, \"Anis\": 2},\n",
    "            '44': {\"Het\": 10, \"Anis\": 5},\n",
    "            '45': {\"Het\": 10, \"Anis\": 10},\n",
    "            '46': {\"Het\": 0.1, \"Anis\": 2},\n",
    "            '47': {\"Het\": 0.1, \"Anis\": 5},\n",
    "            '48': {\"Het\": 0.1, \"Anis\": 10},\n",
    "            '49': {\"Het\": 1, \"Anis\": 2},\n",
    "            '50': {\"Het\": 1, \"Anis\": 5},\n",
    "            '51': {\"Het\": 1, \"Anis\": 10},\n",
    "            '52': {\"Het\": 10, \"Anis\": 2},\n",
    "            '53': {\"Het\": 10, \"Anis\": 5},\n",
    "            '54': {\"Het\": 10, \"Anis\": 10},\n",
    "            '55': {\"Het\": 0.1, \"Anis\": 2},\n",
    "            '56': {\"Het\": 0.1, \"Anis\": 5},\n",
    "            '57': {\"Het\": 0.1, \"Anis\": 10},\n",
    "            '58': {\"Het\": 1, \"Anis\": 2},\n",
    "            '59': {\"Het\": 1, \"Anis\": 5},\n",
    "            '60': {\"Het\": 1, \"Anis\": 10},\n",
    "            '61': {\"Het\": 10, \"Anis\": 2},\n",
    "            '62': {\"Het\": 10, \"Anis\": 5},\n",
    "            '63': {\"Het\": 10, \"Anis\": 10},\n",
    "            '64': {\"Het\": 0.1, \"Anis\": 2},\n",
    "            '65': {\"Het\": 0.1, \"Anis\": 5},\n",
    "            '66': {\"Het\": 0.1, \"Anis\": 10},\n",
    "            '67': {\"Het\": 1, \"Anis\": 2},\n",
    "            '68': {\"Het\": 1, \"Anis\": 5},\n",
    "            '69': {\"Het\": 1, \"Anis\": 10},\n",
    "            '70': {\"Het\": 5, \"Anis\": 2},\n",
    "            '71': {\"Het\": 5, \"Anis\": 5},\n",
    "            '72': {\"Het\": 5, \"Anis\": 10},\n",
    "            '73': {\"Het\": 10, \"Anis\": 2},\n",
    "            '74': {\"Het\": 10, \"Anis\": 5},\n",
    "            '75': {\"Het\": 10, \"Anis\": 10},\n",
    "            '76': {\"Het\": 5, \"Anis\": 2},\n",
    "            '77': {\"Het\": 5, \"Anis\": 5},\n",
    "            '78': {\"Het\": 5, \"Anis\": 10},\n",
    "            '79': {\"Het\": 5, \"Anis\": 2},\n",
    "            '80': {\"Het\": 5, \"Anis\": 5},\n",
    "            '81': {\"Het\": 5, \"Anis\": 10},\n",
    "            '82': {\"Het\": 5, \"Anis\": 2},\n",
    "            '83': {\"Het\": 5, \"Anis\": 5},\n",
    "            '84': {\"Het\": 5, \"Anis\": 10},\n",
    "            }"
   ]
  },
  {
   "cell_type": "markdown",
   "metadata": {},
   "source": [
    "### Define scenarios that you are investigating"
   ]
  },
  {
   "cell_type": "code",
   "execution_count": 6,
   "metadata": {},
   "outputs": [
    {
     "name": "stdout",
     "output_type": "stream",
     "text": [
      "49\n"
     ]
    }
   ],
   "source": [
    "#notlist = [43, 44, 45, 51, 52, 53, 54, 61, 62, 63, 70, 71, 72, 73, 74, 75, 76, 77, 78, 79, 80, 81, 84]\n",
    "#Trial = list(t for t in list(masterdictionary.keys()) if t not in str(notlist))\n",
    "#Trial = [36, 37, 38, 49, 40, 41, 42, 55, 56, 57, 58, 59, 60, 64, 65, 66, 67]\n",
    "Trial = list(masterdictionary.keys())\n",
    "#Trial.remove(\"36\")\n",
    "print(len(Trial))"
   ]
  },
  {
   "cell_type": "markdown",
   "metadata": {},
   "source": [
    "## Load Data\n",
    "\n",
    "#### Explore a single file for its format etc."
   ]
  },
  {
   "cell_type": "code",
   "execution_count": 8,
   "metadata": {},
   "outputs": [
    {
     "name": "stdout",
     "output_type": "stream",
     "text": [
      "184\n",
      "['Liquid X-Velocity [m_per_d]', 'Liquid Y-Velocity [m_per_d]', 'Liquid Z-Velocity [m_per_d]', 'Liquid_Pressure [Pa]', 'Liquid_Saturation', 'Material_ID', 'Total_Tracer [M]']\n",
      "[[39.99999999]\n",
      " [39.99999998]\n",
      " [39.99999996]\n",
      " ...\n",
      " [20.10943339]\n",
      " [20.74887043]\n",
      " [25.11647294]]\n",
      "(1200, 1, 25)\n"
     ]
    }
   ],
   "source": [
    "DATA_DIR = \"//msg-filer2/scratch_60_days/khurana/DD/saturated_tracer_studies\"\n",
    "infile = os.path.join(DATA_DIR,\"36.h5\")\n",
    "f = h5py.File(infile, \"r\")\n",
    "timeindex = list(f.keys())[2:] #First two indices pertain to Coordinates and Provenance\n",
    "print (len(timeindex))\n",
    "features = list(f[timeindex[0]].keys()) #Checking which attributes are recorded at each time step\n",
    "print(features)\n",
    "print(f[timeindex[-1]][features[-1]][:,:,-1])\n",
    "print(np.shape(f[timeindex[-1]][features[-1]]))\n",
    "f.close()"
   ]
  },
  {
   "cell_type": "markdown",
   "metadata": {},
   "source": [
    "### Check for velocity"
   ]
  },
  {
   "cell_type": "code",
   "execution_count": 8,
   "metadata": {},
   "outputs": [
    {
     "name": "stdout",
     "output_type": "stream",
     "text": [
      "True\n",
      "36 0.0\n",
      "True\n",
      "36 0.0\n",
      "True\n",
      "36 0.0\n"
     ]
    },
    {
     "ename": "KeyboardInterrupt",
     "evalue": "",
     "output_type": "error",
     "traceback": [
      "\u001b[1;31m---------------------------------------------------------------------------\u001b[0m",
      "\u001b[1;31mKeyboardInterrupt\u001b[0m                         Traceback (most recent call last)",
      "\u001b[1;32m<ipython-input-8-d6505685ff3e>\u001b[0m in \u001b[0;36m<module>\u001b[1;34m\u001b[0m\n\u001b[0;32m      7\u001b[0m     \u001b[1;32mfor\u001b[0m \u001b[0mt\u001b[0m \u001b[1;32min\u001b[0m \u001b[0mrange\u001b[0m\u001b[1;33m(\u001b[0m\u001b[1;36m1\u001b[0m\u001b[1;33m,\u001b[0m\u001b[1;36m4\u001b[0m\u001b[1;33m)\u001b[0m\u001b[1;33m:\u001b[0m\u001b[1;33m\u001b[0m\u001b[1;33m\u001b[0m\u001b[0m\n\u001b[0;32m      8\u001b[0m         \u001b[0mavgvel1\u001b[0m \u001b[1;33m=\u001b[0m \u001b[0mnp\u001b[0m\u001b[1;33m.\u001b[0m\u001b[0mround\u001b[0m\u001b[1;33m(\u001b[0m\u001b[0mnp\u001b[0m\u001b[1;33m.\u001b[0m\u001b[0mmean\u001b[0m\u001b[1;33m(\u001b[0m\u001b[0mf\u001b[0m\u001b[1;33m[\u001b[0m\u001b[0mtimeindex\u001b[0m\u001b[1;33m[\u001b[0m\u001b[0mt\u001b[0m\u001b[1;33m]\u001b[0m\u001b[1;33m]\u001b[0m\u001b[1;33m[\u001b[0m\u001b[0mfeatures\u001b[0m\u001b[1;33m[\u001b[0m\u001b[1;36m1\u001b[0m\u001b[1;33m]\u001b[0m\u001b[1;33m]\u001b[0m\u001b[1;33m)\u001b[0m\u001b[1;33m,\u001b[0m\u001b[1;36m4\u001b[0m\u001b[1;33m)\u001b[0m\u001b[1;33m\u001b[0m\u001b[1;33m\u001b[0m\u001b[0m\n\u001b[1;32m----> 9\u001b[1;33m         \u001b[0mavgvel2\u001b[0m \u001b[1;33m=\u001b[0m \u001b[0mnp\u001b[0m\u001b[1;33m.\u001b[0m\u001b[0mround\u001b[0m\u001b[1;33m(\u001b[0m\u001b[0mnp\u001b[0m\u001b[1;33m.\u001b[0m\u001b[0mmean\u001b[0m\u001b[1;33m(\u001b[0m\u001b[0mf\u001b[0m\u001b[1;33m[\u001b[0m\u001b[0mtimeindex\u001b[0m\u001b[1;33m[\u001b[0m\u001b[0mt\u001b[0m\u001b[1;33m+\u001b[0m\u001b[1;36m1\u001b[0m\u001b[1;33m]\u001b[0m\u001b[1;33m]\u001b[0m\u001b[1;33m[\u001b[0m\u001b[0mfeatures\u001b[0m\u001b[1;33m[\u001b[0m\u001b[1;36m1\u001b[0m\u001b[1;33m]\u001b[0m\u001b[1;33m]\u001b[0m\u001b[1;33m)\u001b[0m\u001b[1;33m,\u001b[0m\u001b[1;36m4\u001b[0m\u001b[1;33m)\u001b[0m\u001b[1;33m\u001b[0m\u001b[1;33m\u001b[0m\u001b[0m\n\u001b[0m\u001b[0;32m     10\u001b[0m         \u001b[0mprint\u001b[0m\u001b[1;33m(\u001b[0m\u001b[0mavgvel1\u001b[0m\u001b[1;33m==\u001b[0m\u001b[0mavgvel2\u001b[0m\u001b[1;33m)\u001b[0m\u001b[1;33m\u001b[0m\u001b[1;33m\u001b[0m\u001b[0m\n\u001b[0;32m     11\u001b[0m         \u001b[0mprint\u001b[0m\u001b[1;33m(\u001b[0m\u001b[0mi\u001b[0m\u001b[1;33m,\u001b[0m \u001b[0mavgvel1\u001b[0m\u001b[1;33m)\u001b[0m\u001b[1;33m\u001b[0m\u001b[1;33m\u001b[0m\u001b[0m\n",
      "\u001b[1;32mh5py\\_objects.pyx\u001b[0m in \u001b[0;36mh5py._objects.with_phil.wrapper\u001b[1;34m()\u001b[0m\n",
      "\u001b[1;32mh5py\\_objects.pyx\u001b[0m in \u001b[0;36mh5py._objects.with_phil.wrapper\u001b[1;34m()\u001b[0m\n",
      "\u001b[1;32m~\\Anaconda3\\envs\\mlsm\\lib\\site-packages\\h5py\\_hl\\group.py\u001b[0m in \u001b[0;36m__getitem__\u001b[1;34m(self, name)\u001b[0m\n\u001b[0;32m    262\u001b[0m                 \u001b[1;32mraise\u001b[0m \u001b[0mValueError\u001b[0m\u001b[1;33m(\u001b[0m\u001b[1;34m\"Invalid HDF5 object reference\"\u001b[0m\u001b[1;33m)\u001b[0m\u001b[1;33m\u001b[0m\u001b[1;33m\u001b[0m\u001b[0m\n\u001b[0;32m    263\u001b[0m         \u001b[1;32melse\u001b[0m\u001b[1;33m:\u001b[0m\u001b[1;33m\u001b[0m\u001b[1;33m\u001b[0m\u001b[0m\n\u001b[1;32m--> 264\u001b[1;33m             \u001b[0moid\u001b[0m \u001b[1;33m=\u001b[0m \u001b[0mh5o\u001b[0m\u001b[1;33m.\u001b[0m\u001b[0mopen\u001b[0m\u001b[1;33m(\u001b[0m\u001b[0mself\u001b[0m\u001b[1;33m.\u001b[0m\u001b[0mid\u001b[0m\u001b[1;33m,\u001b[0m \u001b[0mself\u001b[0m\u001b[1;33m.\u001b[0m\u001b[0m_e\u001b[0m\u001b[1;33m(\u001b[0m\u001b[0mname\u001b[0m\u001b[1;33m)\u001b[0m\u001b[1;33m,\u001b[0m \u001b[0mlapl\u001b[0m\u001b[1;33m=\u001b[0m\u001b[0mself\u001b[0m\u001b[1;33m.\u001b[0m\u001b[0m_lapl\u001b[0m\u001b[1;33m)\u001b[0m\u001b[1;33m\u001b[0m\u001b[1;33m\u001b[0m\u001b[0m\n\u001b[0m\u001b[0;32m    265\u001b[0m \u001b[1;33m\u001b[0m\u001b[0m\n\u001b[0;32m    266\u001b[0m         \u001b[0motype\u001b[0m \u001b[1;33m=\u001b[0m \u001b[0mh5i\u001b[0m\u001b[1;33m.\u001b[0m\u001b[0mget_type\u001b[0m\u001b[1;33m(\u001b[0m\u001b[0moid\u001b[0m\u001b[1;33m)\u001b[0m\u001b[1;33m\u001b[0m\u001b[1;33m\u001b[0m\u001b[0m\n",
      "\u001b[1;32mh5py\\_objects.pyx\u001b[0m in \u001b[0;36mh5py._objects.with_phil.wrapper\u001b[1;34m()\u001b[0m\n",
      "\u001b[1;32mh5py\\_objects.pyx\u001b[0m in \u001b[0;36mh5py._objects.with_phil.wrapper\u001b[1;34m()\u001b[0m\n",
      "\u001b[1;32mh5py\\h5o.pyx\u001b[0m in \u001b[0;36mh5py.h5o.open\u001b[1;34m()\u001b[0m\n",
      "\u001b[1;32mh5py\\h5i.pyx\u001b[0m in \u001b[0;36mh5py.h5i.wrap_identifier\u001b[1;34m()\u001b[0m\n",
      "\u001b[1;32m~\\Anaconda3\\envs\\mlsm\\lib\\importlib\\_bootstrap.py\u001b[0m in \u001b[0;36mparent\u001b[1;34m(self)\u001b[0m\n",
      "\u001b[1;31mKeyboardInterrupt\u001b[0m: "
     ]
    }
   ],
   "source": [
    "DATA_DIR = \"//msg-filer2/scratch_60_days/khurana/DD/tracer_studies\"\n",
    "for i in Trial:\n",
    "    infile = os.path.join(DATA_DIR,str(i)+\".h5\")\n",
    "    f = h5py.File(infile, \"r\")\n",
    "    timeindex = list(f.keys())[2:]\n",
    "    features = list(f[timeindex[0]].keys())\n",
    "    for t in range(1,4):\n",
    "        avgvel1 = np.round(np.mean(f[timeindex[t]][features[1]]),4)\n",
    "        avgvel2 = np.round(np.mean(f[timeindex[t+1]][features[1]]),4)\n",
    "        print(avgvel1==avgvel2)\n",
    "        print(i, avgvel1)\n",
    "    f.close()"
   ]
  },
  {
   "cell_type": "code",
   "execution_count": 14,
   "metadata": {},
   "outputs": [],
   "source": [
    "DATA_DIR = \"//msg-filer2/scratch_60_days/khurana/DD/saturated_tracer_studies\"\n",
    "xidx = 300\n",
    "yidx = 0\n",
    "zidx = -1\n",
    "breakthrough = []\n",
    "for i in Trial:\n",
    "    infile = os.path.join(DATA_DIR,str(i)+\".h5\")\n",
    "    f = h5py.File(infile, \"r\")\n",
    "    timeindex = list(f.keys())[2:]\n",
    "    timeseries = list(float(tim[7:-2]) for tim in timeindex)\n",
    "    sortedtime = np.sort(timeseries)\n",
    "    index = list(timeseries.index(s) for s in sortedtime)\n",
    "    #print(index)\n",
    "    features = list(f[timeindex[0]].keys())\n",
    "    for t in index[1:]: #range(len(timeindex)):\n",
    "        velx = f[timeindex[t]][features[0]][xidx,:,:]\n",
    "        vely = f[timeindex[t]][features[1]][xidx,:,:]\n",
    "        velz = f[timeindex[t]][features[2]][xidx,:,:]\n",
    "        tracer = f[timeindex[t]][features[-1]][xidx,:,:]\n",
    "        tracerflux = np.sum((velx**2 + vely**2+velz**2)*tracer)\n",
    "        velflux = np.sum(velx**2 + vely**2+velz**2)\n",
    "        #print(i, t, tracerflux, velflux)\n",
    "        avgconc = int(tracerflux/velflux)\n",
    "        pressure = np.mean(f[timeindex[t]][features[3]][xidx,:,:])\n",
    "        if avgconc > 30:\n",
    "            breakthrough.append([i, masterdictionary[str(i)][\"Het\"], masterdictionary[str(i)][\"Anis\"], str(masterdictionary[str(i)][\"Het\"])+\":\"+str(masterdictionary[str(i)][\"Anis\"]), float(timeindex[t][5:-1]), pressure])\n",
    "            #print(reg, i, f[timeindex[t]], avgconc )\n",
    "            break\n",
    "        else:\n",
    "           pass\n",
    "    f.close()"
   ]
  },
  {
   "cell_type": "code",
   "execution_count": 15,
   "metadata": {},
   "outputs": [
    {
     "name": "stdout",
     "output_type": "stream",
     "text": [
      "[['36', 0, 1, '0:1', 535.0, 113231.61059974734], ['37', 0.1, 2, '0.1:2', 400.0, 113233.13019018044], ['38', 0.1, 5, '0.1:5', 395.0, 113232.34588950226], ['39', 0.1, 10, '0.1:10', 390.0, 113227.53362356419], ['40', 1, 2, '1:2', 475.0, 113230.25336068246], ['41', 1, 5, '1:5', 420.0, 113235.46681773002], ['42', 1, 10, '1:10', 350.0, 113227.11812662228], ['44', 10, 5, '10:5', 740.0, 113265.7094066962], ['45', 10, 10, '10:10', 380.0, 113167.40570629016], ['46', 0.1, 2, '0.1:2', 400.0, 113233.55071306483], ['47', 0.1, 5, '0.1:5', 390.0, 113231.87446566524], ['48', 0.1, 10, '0.1:10', 390.0, 113220.61069606613], ['49', 1, 2, '1:2', 505.0, 113228.80669966825], ['50', 1, 5, '1:5', 415.0, 113222.70018749405], ['51', 1, 10, '1:10', 410.0, 113230.84860743764], ['53', 10, 5, '10:5', 665.0, 113251.31227265595], ['54', 10, 10, '10:10', 285.0, 113275.38341516083], ['55', 0.1, 2, '0.1:2', 400.0, 113231.50962090511], ['56', 0.1, 5, '0.1:5', 390.0, 113234.29262937028], ['57', 0.1, 10, '0.1:10', 385.0, 113233.08414751054], ['58', 1, 2, '1:2', 465.0, 113243.81602135203], ['59', 1, 5, '1:5', 450.0, 113229.33653969366], ['60', 1, 10, '1:10', 400.0, 113224.97294710738], ['62', 10, 5, '10:5', 730.0, 113195.16700664275], ['63', 10, 10, '10:10', 320.0, 113208.41984311423], ['64', 0.1, 2, '0.1:2', 400.0, 113230.70558630099], ['65', 0.1, 5, '0.1:5', 390.0, 113234.2881694857], ['66', 0.1, 10, '0.1:10', 390.0, 113230.99514930061], ['67', 1, 2, '1:2', 475.0, 113225.80467861552], ['68', 1, 5, '1:5', 435.0, 113263.8049896596], ['69', 1, 10, '1:10', 395.0, 113249.39041404145], ['70', 5, 2, '5:2', 815.0, 113230.61337776476], ['71', 5, 5, '5:5', 620.0, 113229.14818915716], ['72', 5, 10, '5:10', 445.0, 113199.46867989498], ['74', 10, 5, '10:5', 785.0, 113141.0467664665], ['75', 10, 10, '10:10', 310.0, 113333.07595508361], ['76', 5, 2, '5:2', 850.0, 113216.56498497938], ['77', 5, 5, '5:5', 655.0, 113189.73933264647], ['78', 5, 10, '5:10', 340.0, 113233.65939663259], ['79', 5, 2, '5:2', 900.0, 113201.26115863616], ['80', 5, 5, '5:5', 540.0, 113193.87331514087], ['81', 5, 10, '5:10', 370.0, 113249.83372532736], ['82', 5, 2, '5:2', 800.0, 113206.47235892323], ['83', 5, 5, '5:5', 545.0, 113232.82762171829], ['84', 5, 10, '5:10', 305.0, 113233.50678091943]]\n"
     ]
    }
   ],
   "source": [
    "print(breakthrough)"
   ]
  },
  {
   "cell_type": "markdown",
   "metadata": {},
   "source": [
    "## Analysing Data\n",
    "- Change in breakthrough time given the same incoming flux at the top boundary\n",
    "- Base case is scenario 36 (homogeneous case)"
   ]
  },
  {
   "cell_type": "code",
   "execution_count": 16,
   "metadata": {},
   "outputs": [
    {
     "name": "stdout",
     "output_type": "stream",
     "text": [
      "   Trial  Variance  Anisotropy      VA   Time            TOP\n",
      "0     36       0.0           1     0:1  535.0  113231.610600\n",
      "1     37       0.1           2   0.1:2  400.0  113233.130190\n",
      "9     46       0.1           2   0.1:2  400.0  113233.550713\n",
      "17    55       0.1           2   0.1:2  400.0  113231.509621\n",
      "25    64       0.1           2   0.1:2  400.0  113230.705586\n",
      "2     38       0.1           5   0.1:5  395.0  113232.345890\n",
      "10    47       0.1           5   0.1:5  390.0  113231.874466\n",
      "18    56       0.1           5   0.1:5  390.0  113234.292629\n",
      "26    65       0.1           5   0.1:5  390.0  113234.288169\n",
      "3     39       0.1          10  0.1:10  390.0  113227.533624\n",
      "11    48       0.1          10  0.1:10  390.0  113220.610696\n",
      "19    57       0.1          10  0.1:10  385.0  113233.084148\n",
      "27    66       0.1          10  0.1:10  390.0  113230.995149\n",
      "4     40       1.0           2     1:2  475.0  113230.253361\n",
      "12    49       1.0           2     1:2  505.0  113228.806700\n",
      "20    58       1.0           2     1:2  465.0  113243.816021\n",
      "28    67       1.0           2     1:2  475.0  113225.804679\n",
      "5     41       1.0           5     1:5  420.0  113235.466818\n",
      "13    50       1.0           5     1:5  415.0  113222.700187\n",
      "21    59       1.0           5     1:5  450.0  113229.336540\n",
      "29    68       1.0           5     1:5  435.0  113263.804990\n",
      "6     42       1.0          10    1:10  350.0  113227.118127\n",
      "14    51       1.0          10    1:10  410.0  113230.848607\n",
      "22    60       1.0          10    1:10  400.0  113224.972947\n",
      "30    69       1.0          10    1:10  395.0  113249.390414\n",
      "31    70       5.0           2     5:2  815.0  113230.613378\n",
      "36    76       5.0           2     5:2  850.0  113216.564985\n",
      "39    79       5.0           2     5:2  900.0  113201.261159\n",
      "42    82       5.0           2     5:2  800.0  113206.472359\n",
      "32    71       5.0           5     5:5  620.0  113229.148189\n",
      "37    77       5.0           5     5:5  655.0  113189.739333\n",
      "40    80       5.0           5     5:5  540.0  113193.873315\n",
      "43    83       5.0           5     5:5  545.0  113232.827622\n",
      "33    72       5.0          10    5:10  445.0  113199.468680\n",
      "38    78       5.0          10    5:10  340.0  113233.659397\n",
      "41    81       5.0          10    5:10  370.0  113249.833725\n",
      "44    84       5.0          10    5:10  305.0  113233.506781\n",
      "7     44      10.0           5    10:5  740.0  113265.709407\n",
      "15    53      10.0           5    10:5  665.0  113251.312273\n",
      "23    62      10.0           5    10:5  730.0  113195.167007\n",
      "34    74      10.0           5    10:5  785.0  113141.046766\n",
      "8     45      10.0          10   10:10  380.0  113167.405706\n",
      "16    54      10.0          10   10:10  285.0  113275.383415\n",
      "24    63      10.0          10   10:10  320.0  113208.419843\n",
      "35    75      10.0          10   10:10  310.0  113333.075955\n"
     ]
    }
   ],
   "source": [
    "df = pd.DataFrame.from_records(breakthrough, columns = [\"Trial\", \"Variance\", \"Anisotropy\", \"VA\", \"Time\", \"TOP\"])\n",
    "df = df.sort_values(by = [\"Variance\", \"Anisotropy\"])\n",
    "print(df)"
   ]
  },
  {
   "cell_type": "code",
   "execution_count": 17,
   "metadata": {},
   "outputs": [
    {
     "name": "stdout",
     "output_type": "stream",
     "text": [
      "535.0\n"
     ]
    }
   ],
   "source": [
    "base = df[df[\"Trial\"]=='36'][\"Time\"].values[0]\n",
    "print(base)\n",
    "df[\"fraction\"] = df.Time/base"
   ]
  },
  {
   "cell_type": "code",
   "execution_count": 10,
   "metadata": {},
   "outputs": [
    {
     "name": "stdout",
     "output_type": "stream",
     "text": [
      "   Trial  Variance  Anisotropy      VA   Time            TOP\n",
      "0     36       0.0           1     0:1  405.0  107389.089506\n",
      "1     37       0.1           2   0.1:2  305.0  107379.641855\n",
      "9     46       0.1           2   0.1:2  305.0  107389.304661\n",
      "18    55       0.1           2   0.1:2  300.0  107377.066298\n",
      "27    64       0.1           2   0.1:2  305.0  107394.599819\n",
      "2     38       0.1           5   0.1:5  300.0  107391.773373\n",
      "10    47       0.1           5   0.1:5  295.0  107387.556173\n",
      "19    56       0.1           5   0.1:5  295.0  107383.717166\n",
      "28    65       0.1           5   0.1:5  295.0  107395.601374\n",
      "3     39       0.1          10  0.1:10  300.0  107381.994495\n",
      "11    48       0.1          10  0.1:10  300.0  107390.712507\n",
      "20    57       0.1          10  0.1:10  290.0  107375.405206\n",
      "29    66       0.1          10  0.1:10  295.0  107388.125983\n",
      "4     40       1.0           2     1:2  375.0  107361.785881\n",
      "12    49       1.0           2     1:2  405.0  107372.513819\n",
      "21    58       1.0           2     1:2  370.0  107337.882084\n",
      "30    67       1.0           2     1:2  360.0  107371.428700\n",
      "5     41       1.0           5     1:5  330.0  107425.868348\n",
      "13    50       1.0           5     1:5  330.0  107420.338747\n",
      "22    59       1.0           5     1:5  350.0  107366.931537\n",
      "31    68       1.0           5     1:5  340.0  107379.333821\n",
      "6     42       1.0          10    1:10  280.0  107304.244253\n",
      "14    51       1.0          10    1:10  325.0  107376.469610\n",
      "23    60       1.0          10    1:10  310.0  107368.117110\n",
      "32    69       1.0          10    1:10  300.0  107424.971454\n",
      "33    70       5.0           2     5:2  645.0  107239.623395\n",
      "39    76       5.0           2     5:2  705.0  107363.887902\n",
      "42    79       5.0           2     5:2  780.0  107290.457573\n",
      "45    82       5.0           2     5:2  630.0  107318.265869\n",
      "34    71       5.0           5     5:5  495.0  107391.392155\n",
      "40    77       5.0           5     5:5  515.0  107311.745183\n",
      "43    80       5.0           5     5:5  445.0  107391.627307\n",
      "46    83       5.0           5     5:5  430.0  107466.895231\n",
      "35    72       5.0          10    5:10  370.0  107368.282703\n",
      "41    78       5.0          10    5:10  290.0  107484.674339\n",
      "44    81       5.0          10    5:10  290.0  107228.728335\n",
      "47    84       5.0          10    5:10  260.0  107334.631202\n",
      "15    52      10.0           2    10:2  855.0  107472.239123\n",
      "24    61      10.0           2    10:2  895.0  107478.706437\n",
      "36    73      10.0           2    10:2  810.0  107363.196126\n",
      "7     44      10.0           5    10:5  615.0  107420.913289\n",
      "16    53      10.0           5    10:5  610.0  107441.009920\n",
      "25    62      10.0           5    10:5  585.0  107357.253626\n",
      "37    74      10.0           5    10:5  610.0  107363.502436\n",
      "8     45      10.0          10   10:10  315.0  107224.327566\n",
      "17    54      10.0          10   10:10  270.0  107457.682153\n",
      "26    63      10.0          10   10:10  270.0  107497.363837\n",
      "38    75      10.0          10   10:10  275.0  107478.718201\n"
     ]
    }
   ],
   "source": [
    "df2 = pd.DataFrame.from_records(breakthrough, columns = [\"Trial\", \"Variance\", \"Anisotropy\", \"VA\", \"Time\", \"TOP\"])\n",
    "df2 = df2.sort_values(by = [\"Variance\", \"Anisotropy\"])\n",
    "print(df2)"
   ]
  },
  {
   "cell_type": "code",
   "execution_count": 11,
   "metadata": {},
   "outputs": [
    {
     "name": "stdout",
     "output_type": "stream",
     "text": [
      "405.0\n"
     ]
    }
   ],
   "source": [
    "base = df2[df2[\"Trial\"]=='36'][\"Time\"].values[0]\n",
    "print(base)\n",
    "df2[\"fraction\"] = df2.Time/base"
   ]
  },
  {
   "cell_type": "markdown",
   "metadata": {},
   "source": [
    "## Visualizing using boxplot\n",
    "- Y axis: Fraction of breakthrough time in heterogeneous scenario and that in homogeneous scenario (%)\n",
    "- X axis: Heterogeneity depicted as Variance:Anisotropy"
   ]
  },
  {
   "cell_type": "code",
   "execution_count": null,
   "metadata": {},
   "outputs": [],
   "source": [
    "#coldict = {\"Slow\": \"indianred\", \"Medium\": \"g\", \"Fast\" : \"steelblue\"}\n",
    "#plt.figure(figsize = (10,6))\n",
    "#sns.boxplot(x = \"VA\", y = df[\"fraction\"]*100, hue = \"Regime\", palette = coldict, data = df)\n",
    "#plt.xlabel (\"Variance:Anisotropy\", fontsize = 15)\n",
    "#plt.ylabel (\"Change in breakthrough time (%)\", fontsize = 15)\n",
    "#plt.legend(title = \"Flow regime\", fontsize = 12)\n",
    "#plt.yticks(fontsize = 14)\n",
    "#plt.xticks(fontsize = 14)"
   ]
  },
  {
   "cell_type": "code",
   "execution_count": 18,
   "metadata": {
    "scrolled": true
   },
   "outputs": [
    {
     "data": {
      "text/plain": [
       "(array([ 0,  1,  2,  3,  4,  5,  6,  7,  8,  9, 10, 11]),\n",
       " [Text(0, 0, '0:1'),\n",
       "  Text(1, 0, '0.1:2'),\n",
       "  Text(2, 0, '0.1:5'),\n",
       "  Text(3, 0, '0.1:10'),\n",
       "  Text(4, 0, '1:2'),\n",
       "  Text(5, 0, '1:5'),\n",
       "  Text(6, 0, '1:10'),\n",
       "  Text(7, 0, '5:2'),\n",
       "  Text(8, 0, '5:5'),\n",
       "  Text(9, 0, '5:10'),\n",
       "  Text(10, 0, '10:5'),\n",
       "  Text(11, 0, '10:10')])"
      ]
     },
     "execution_count": 18,
     "metadata": {},
     "output_type": "execute_result"
    },
    {
     "data": {
      "image/png": "[encoded data removed]",
      "text/plain": [
       "<Figure size 576x432 with 1 Axes>"
      ]
     },
     "metadata": {
      "needs_background": "light"
     },
     "output_type": "display_data"
    }
   ],
   "source": [
    "plt.figure(figsize = (8,6))\n",
    "sns.boxplot(x = \"VA\", y = df[\"fraction\"],data = df)\n",
    "plt.xlabel (\"Variance:Anisotropy\", fontsize = 15)\n",
    "plt.ylabel (\"Change in breakthrough time (%)\", fontsize = 15)\n",
    "plt.yticks(fontsize = 14)\n",
    "plt.xticks(fontsize = 14)"
   ]
  },
  {
   "cell_type": "code",
   "execution_count": 12,
   "metadata": {},
   "outputs": [
    {
     "data": {
      "text/plain": [
       "(array([ 0,  1,  2,  3,  4,  5,  6,  7,  8,  9, 10, 11, 12]),\n",
       " [Text(0, 0, '0:1'),\n",
       "  Text(1, 0, '0.1:2'),\n",
       "  Text(2, 0, '0.1:5'),\n",
       "  Text(3, 0, '0.1:10'),\n",
       "  Text(4, 0, '1:2'),\n",
       "  Text(5, 0, '1:5'),\n",
       "  Text(6, 0, '1:10'),\n",
       "  Text(7, 0, '5:2'),\n",
       "  Text(8, 0, '5:5'),\n",
       "  Text(9, 0, '5:10'),\n",
       "  Text(10, 0, '10:2'),\n",
       "  Text(11, 0, '10:5'),\n",
       "  Text(12, 0, '10:10')])"
      ]
     },
     "execution_count": 12,
     "metadata": {},
     "output_type": "execute_result"
    },
    {
     "data": {
      "image/png": "[encoded data removed]",
      "text/plain": [
       "<Figure size 720x432 with 1 Axes>"
      ]
     },
     "metadata": {
      "needs_background": "light"
     },
     "output_type": "display_data"
    }
   ],
   "source": [
    "plt.figure(figsize = (10,6))\n",
    "sns.boxplot(x = \"VA\", y = df2[\"fraction\"],data = df2)\n",
    "plt.xlabel (\"Variance:Anisotropy\", fontsize = 15)\n",
    "plt.ylabel (\"Change in breakthrough time (%)\", fontsize = 15)\n",
    "plt.yticks(fontsize = 14)\n",
    "plt.xticks(fontsize = 14)"
   ]
  }
 ],
 "metadata": {
  "kernelspec": {
   "display_name": "mlsm",
   "language": "python",
   "name": "mlsm"
  },
  "language_info": {
   "codemirror_mode": {
    "name": "ipython",
    "version": 3
   },
   "file_extension": ".py",
   "mimetype": "text/x-python",
   "name": "python",
   "nbconvert_exporter": "python",
   "pygments_lexer": "ipython3",
   "version": "3.8.5"
  }
 },
 "nbformat": 4,
 "nbformat_minor": 4
}
